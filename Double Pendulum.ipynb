{
 "cells": [
  {
   "cell_type": "markdown",
   "metadata": {},
   "source": [
    "SymPy"
   ]
  },
  {
   "cell_type": "code",
   "execution_count": 1,
   "metadata": {},
   "outputs": [],
   "source": [
    "from sympy import *\n",
    "import numpy as np\n",
    "from sympy import init_printing\n",
    "init_printing(use_latex=True)"
   ]
  },
  {
   "cell_type": "code",
   "execution_count": 2,
   "metadata": {},
   "outputs": [],
   "source": [
    "%matplotlib notebook\n",
    "from sympy.utilities.lambdify import lambdify\n",
    "import matplotlib.pyplot as plt\n",
    "\n",
    "import matplotlib.animation as animation"
   ]
  },
  {
   "cell_type": "markdown",
   "metadata": {},
   "source": [
    "Variable initialisations"
   ]
  },
  {
   "cell_type": "code",
   "execution_count": 3,
   "metadata": {},
   "outputs": [],
   "source": [
    "n = 2\n",
    "'''\n",
    "x = symbols('x0:{}'.format(n))\n",
    "y = symbols('y0:{}'.format(n))\n",
    "l = symbols('L0:{}'.format(n))\n",
    "m = symbols('m0:{}'.format(n))\n",
    "theta = symbols('theta_0:{}'.format(n))\n",
    "'''\n",
    "x = symarray('x', n)\n",
    "y = symarray('y', n)\n",
    "l = symarray('L', n)\n",
    "m = symarray('m', n)\n",
    "theta = symarray('theta', n)\n",
    "t, g = symbols('t g')"
   ]
  },
  {
   "cell_type": "markdown",
   "metadata": {},
   "source": [
    "State Equations"
   ]
  },
  {
   "cell_type": "code",
   "execution_count": 4,
   "metadata": {
    "scrolled": true
   },
   "outputs": [],
   "source": [
    "for j in range(0, n):\n",
    "    x[j] = Add(*[l[i]*sin(theta[i](t)) for i in range(0, j+1)])\n",
    "    y[j] = Add(*[l[i]*cos(theta[i](t)) for i in range(0, j+1)])"
   ]
  },
  {
   "cell_type": "code",
   "execution_count": 5,
   "metadata": {},
   "outputs": [
    {
     "data": {
      "text/plain": [
       "array([L_0*sin(theta_0(t)), L_0*sin(theta_0(t)) + L_1*sin(theta_1(t))], dtype=object)"
      ]
     },
     "execution_count": 5,
     "metadata": {},
     "output_type": "execute_result"
    }
   ],
   "source": [
    "x"
   ]
  },
  {
   "cell_type": "code",
   "execution_count": 6,
   "metadata": {},
   "outputs": [
    {
     "name": "stdout",
     "output_type": "stream",
     "text": [
      "x0 : L_0*sin(theta_0(t))\n"
     ]
    }
   ],
   "source": [
    "print(Symbol('x0'), \":\", x[0])"
   ]
  },
  {
   "cell_type": "markdown",
   "metadata": {},
   "source": [
    "Total Kinetic Energy T"
   ]
  },
  {
   "cell_type": "code",
   "execution_count": 7,
   "metadata": {},
   "outputs": [
    {
     "data": {
      "image/png": "[encoded data removed]",
      "text/latex": [
       "$$\\frac{L_{0}^{2} m_{0}}{2} \\left(\\frac{d}{d t} \\theta_{0}{\\left (t \\right )}\\right)^{2} + \\frac{m_{1}}{2} \\left(L_{0}^{2} \\left(\\frac{d}{d t} \\theta_{0}{\\left (t \\right )}\\right)^{2} + 2 L_{0} L_{1} \\cos{\\left (\\theta_{0}{\\left (t \\right )} - \\theta_{1}{\\left (t \\right )} \\right )} \\frac{d}{d t} \\theta_{0}{\\left (t \\right )} \\frac{d}{d t} \\theta_{1}{\\left (t \\right )} + L_{1}^{2} \\left(\\frac{d}{d t} \\theta_{1}{\\left (t \\right )}\\right)^{2}\\right)$$"
      ],
      "text/plain": [
       "                  2      ⎛               2                                    \n",
       "  2    ⎛d        ⎞       ⎜  2 ⎛d        ⎞                               d     \n",
       "L₀ ⋅m₀⋅⎜──(θ₀(t))⎟    m₁⋅⎜L₀ ⋅⎜──(θ₀(t))⎟  + 2⋅L₀⋅L₁⋅cos(θ₀(t) - θ₁(t))⋅──(θ₀(\n",
       "       ⎝dt       ⎠       ⎝    ⎝dt       ⎠                               dt    \n",
       "─────────────────── + ────────────────────────────────────────────────────────\n",
       "         2                                                        2           \n",
       "\n",
       "                               2⎞\n",
       "    d             2 ⎛d        ⎞ ⎟\n",
       "t))⋅──(θ₁(t)) + L₁ ⋅⎜──(θ₁(t))⎟ ⎟\n",
       "    dt              ⎝dt       ⎠ ⎠\n",
       "─────────────────────────────────\n",
       "                                 "
      ]
     },
     "execution_count": 7,
     "metadata": {},
     "output_type": "execute_result"
    }
   ],
   "source": [
    "T = simplify(Rational(1, 2)*Add(*[m[i]*(x[i].diff(t)**2 + y[i].diff(t)**2) for i in range(0, n)]))\n",
    "T"
   ]
  },
  {
   "cell_type": "markdown",
   "metadata": {},
   "source": [
    "Total Potential Energy V"
   ]
  },
  {
   "cell_type": "code",
   "execution_count": 8,
   "metadata": {},
   "outputs": [
    {
     "data": {
      "image/png": "[encoded data removed]",
      "text/latex": [
       "$$- L_{0} g m_{0} \\cos{\\left (\\theta_{0}{\\left (t \\right )} \\right )} - g m_{1} \\left(L_{0} \\cos{\\left (\\theta_{0}{\\left (t \\right )} \\right )} + L_{1} \\cos{\\left (\\theta_{1}{\\left (t \\right )} \\right )}\\right)$$"
      ],
      "text/plain": [
       "-L₀⋅g⋅m₀⋅cos(θ₀(t)) - g⋅m₁⋅(L₀⋅cos(θ₀(t)) + L₁⋅cos(θ₁(t)))"
      ]
     },
     "execution_count": 8,
     "metadata": {},
     "output_type": "execute_result"
    }
   ],
   "source": [
    "V = Add(*[-m[i]*g*y[i] for i in range(0, n)])\n",
    "V"
   ]
  },
  {
   "cell_type": "markdown",
   "metadata": {},
   "source": [
    "Lagrangian Lagra"
   ]
  },
  {
   "cell_type": "code",
   "execution_count": 9,
   "metadata": {},
   "outputs": [],
   "source": [
    "thetadot = symarray('thetadot', n)"
   ]
  },
  {
   "cell_type": "code",
   "execution_count": 10,
   "metadata": {},
   "outputs": [
    {
     "data": {
      "image/png": "[encoded data removed]",
      "text/latex": [
       "$$\\frac{L_{0}^{2} m_{0}}{2} \\left(\\frac{d}{d t} \\theta_{0}{\\left (t \\right )}\\right)^{2} + L_{0} g m_{0} \\cos{\\left (\\theta_{0}{\\left (t \\right )} \\right )} + g m_{1} \\left(L_{0} \\cos{\\left (\\theta_{0}{\\left (t \\right )} \\right )} + L_{1} \\cos{\\left (\\theta_{1}{\\left (t \\right )} \\right )}\\right) + \\frac{m_{1}}{2} \\left(L_{0}^{2} \\left(\\frac{d}{d t} \\theta_{0}{\\left (t \\right )}\\right)^{2} + 2 L_{0} L_{1} \\cos{\\left (\\theta_{0}{\\left (t \\right )} - \\theta_{1}{\\left (t \\right )} \\right )} \\frac{d}{d t} \\theta_{0}{\\left (t \\right )} \\frac{d}{d t} \\theta_{1}{\\left (t \\right )} + L_{1}^{2} \\left(\\frac{d}{d t} \\theta_{1}{\\left (t \\right )}\\right)^{2}\\right)$$"
      ],
      "text/plain": [
       "                  2                                                           \n",
       "  2    ⎛d        ⎞                                                            \n",
       "L₀ ⋅m₀⋅⎜──(θ₀(t))⎟                                                            \n",
       "       ⎝dt       ⎠                                                            \n",
       "─────────────────── + L₀⋅g⋅m₀⋅cos(θ₀(t)) + g⋅m₁⋅(L₀⋅cos(θ₀(t)) + L₁⋅cos(θ₁(t))\n",
       "         2                                                                    \n",
       "\n",
       "       ⎛               2                                                      \n",
       "       ⎜  2 ⎛d        ⎞                               d         d             \n",
       "    m₁⋅⎜L₀ ⋅⎜──(θ₀(t))⎟  + 2⋅L₀⋅L₁⋅cos(θ₀(t) - θ₁(t))⋅──(θ₀(t))⋅──(θ₁(t)) + L₁\n",
       "       ⎝    ⎝dt       ⎠                               dt        dt            \n",
       ") + ──────────────────────────────────────────────────────────────────────────\n",
       "                                                2                             \n",
       "\n",
       "             2⎞\n",
       "2 ⎛d        ⎞ ⎟\n",
       " ⋅⎜──(θ₁(t))⎟ ⎟\n",
       "  ⎝dt       ⎠ ⎠\n",
       "───────────────\n",
       "               "
      ]
     },
     "execution_count": 10,
     "metadata": {},
     "output_type": "execute_result"
    }
   ],
   "source": [
    "Lagra = (T - V)#.subs([(theta[i](t).diff(t), thetadot[i]) for i in range(0, n)])#.subs([(theta[i](t), theta[i]) for i in range(0, n)])\n",
    "Lagra"
   ]
  },
  {
   "cell_type": "code",
   "execution_count": 11,
   "metadata": {},
   "outputs": [],
   "source": [
    "term1 = symarray('term1', n)\n",
    "term2 = symarray('term2', n)"
   ]
  },
  {
   "cell_type": "code",
   "execution_count": 12,
   "metadata": {},
   "outputs": [],
   "source": [
    "term1 = [Lagra.diff(theta[i](t)) for i in range(0,n)]"
   ]
  },
  {
   "cell_type": "code",
   "execution_count": 13,
   "metadata": {},
   "outputs": [],
   "source": [
    "term2 = [Lagra.diff(theta[i](t).diff(t)).diff(t) for i in range(0, n)]"
   ]
  },
  {
   "cell_type": "code",
   "execution_count": 14,
   "metadata": {},
   "outputs": [],
   "source": [
    "eqn = symarray('eqn', n)\n",
    "eqn = [term2[i] - term1[i] for i in range(0, n)]"
   ]
  },
  {
   "cell_type": "code",
   "execution_count": 15,
   "metadata": {},
   "outputs": [
    {
     "data": {
      "image/png": "[encoded data removed]",
      "text/latex": [
       "$$L_{0}^{2} m_{0} \\frac{d^{2}}{d t^{2}}  \\theta_{0}{\\left (t \\right )} + L_{0} L_{1} m_{1} \\sin{\\left (\\theta_{0}{\\left (t \\right )} - \\theta_{1}{\\left (t \\right )} \\right )} \\frac{d}{d t} \\theta_{0}{\\left (t \\right )} \\frac{d}{d t} \\theta_{1}{\\left (t \\right )} + L_{0} g m_{0} \\sin{\\left (\\theta_{0}{\\left (t \\right )} \\right )} + L_{0} g m_{1} \\sin{\\left (\\theta_{0}{\\left (t \\right )} \\right )} + \\frac{m_{1}}{2} \\left(2 L_{0}^{2} \\frac{d^{2}}{d t^{2}}  \\theta_{0}{\\left (t \\right )} - 2 L_{0} L_{1} \\left(\\frac{d}{d t} \\theta_{0}{\\left (t \\right )} - \\frac{d}{d t} \\theta_{1}{\\left (t \\right )}\\right) \\sin{\\left (\\theta_{0}{\\left (t \\right )} - \\theta_{1}{\\left (t \\right )} \\right )} \\frac{d}{d t} \\theta_{1}{\\left (t \\right )} + 2 L_{0} L_{1} \\cos{\\left (\\theta_{0}{\\left (t \\right )} - \\theta_{1}{\\left (t \\right )} \\right )} \\frac{d^{2}}{d t^{2}}  \\theta_{1}{\\left (t \\right )}\\right)$$"
      ],
      "text/plain": [
       "                                                                              \n",
       "                                                                              \n",
       "                                                                              \n",
       "         2                                                                    \n",
       "  2     d                                       d         d                   \n",
       "L₀ ⋅m₀⋅───(θ₀(t)) + L₀⋅L₁⋅m₁⋅sin(θ₀(t) - θ₁(t))⋅──(θ₀(t))⋅──(θ₁(t)) + L₀⋅g⋅m₀⋅\n",
       "         2                                      dt        dt                  \n",
       "       dt                                                                     \n",
       "\n",
       "                                     ⎛        2                               \n",
       "                                     ⎜    2  d                   ⎛d           \n",
       "                                  m₁⋅⎜2⋅L₀ ⋅───(θ₀(t)) - 2⋅L₀⋅L₁⋅⎜──(θ₀(t)) - \n",
       "                                     ⎜        2                  ⎝dt          \n",
       "                                     ⎝      dt                                \n",
       "sin(θ₀(t)) + L₀⋅g⋅m₁⋅sin(θ₀(t)) + ────────────────────────────────────────────\n",
       "                                                                              \n",
       "                                                                              \n",
       "\n",
       "                                                                       2      \n",
       "d        ⎞                    d                                       d       \n",
       "──(θ₁(t))⎟⋅sin(θ₀(t) - θ₁(t))⋅──(θ₁(t)) + 2⋅L₀⋅L₁⋅cos(θ₀(t) - θ₁(t))⋅───(θ₁(t)\n",
       "dt       ⎠                    dt                                       2      \n",
       "                                                                     dt       \n",
       "──────────────────────────────────────────────────────────────────────────────\n",
       "                 2                                                            \n",
       "                                                                              \n",
       "\n",
       " ⎞\n",
       " ⎟\n",
       ")⎟\n",
       " ⎟\n",
       " ⎠\n",
       "──\n",
       "  \n",
       "  "
      ]
     },
     "execution_count": 15,
     "metadata": {},
     "output_type": "execute_result"
    }
   ],
   "source": [
    "eqn[0]"
   ]
  },
  {
   "cell_type": "code",
   "execution_count": 16,
   "metadata": {},
   "outputs": [
    {
     "data": {
      "image/png": "[encoded data removed]",
      "text/latex": [
       "$$- L_{0} L_{1} m_{1} \\sin{\\left (\\theta_{0}{\\left (t \\right )} - \\theta_{1}{\\left (t \\right )} \\right )} \\frac{d}{d t} \\theta_{0}{\\left (t \\right )} \\frac{d}{d t} \\theta_{1}{\\left (t \\right )} + L_{1} g m_{1} \\sin{\\left (\\theta_{1}{\\left (t \\right )} \\right )} + \\frac{m_{1}}{2} \\left(- 2 L_{0} L_{1} \\left(\\frac{d}{d t} \\theta_{0}{\\left (t \\right )} - \\frac{d}{d t} \\theta_{1}{\\left (t \\right )}\\right) \\sin{\\left (\\theta_{0}{\\left (t \\right )} - \\theta_{1}{\\left (t \\right )} \\right )} \\frac{d}{d t} \\theta_{0}{\\left (t \\right )} + 2 L_{0} L_{1} \\cos{\\left (\\theta_{0}{\\left (t \\right )} - \\theta_{1}{\\left (t \\right )} \\right )} \\frac{d^{2}}{d t^{2}}  \\theta_{0}{\\left (t \\right )} + 2 L_{1}^{2} \\frac{d^{2}}{d t^{2}}  \\theta_{1}{\\left (t \\right )}\\right)$$"
      ],
      "text/plain": [
       "                                                                            ⎛ \n",
       "                                                                            ⎜ \n",
       "                                                                         m₁⋅⎜-\n",
       "                                                                            ⎜ \n",
       "                              d         d                                   ⎝ \n",
       "- L₀⋅L₁⋅m₁⋅sin(θ₀(t) - θ₁(t))⋅──(θ₀(t))⋅──(θ₁(t)) + L₁⋅g⋅m₁⋅sin(θ₁(t)) + ─────\n",
       "                              dt        dt                                    \n",
       "\n",
       "                                                                              \n",
       "         ⎛d           d        ⎞                    d                         \n",
       " 2⋅L₀⋅L₁⋅⎜──(θ₀(t)) - ──(θ₁(t))⎟⋅sin(θ₀(t) - θ₁(t))⋅──(θ₀(t)) + 2⋅L₀⋅L₁⋅cos(θ₀\n",
       "         ⎝dt          dt       ⎠                    dt                        \n",
       "                                                                              \n",
       "──────────────────────────────────────────────────────────────────────────────\n",
       "                                                         2                    \n",
       "\n",
       "               2                  2       ⎞\n",
       "              d               2  d        ⎟\n",
       "(t) - θ₁(t))⋅───(θ₀(t)) + 2⋅L₁ ⋅───(θ₁(t))⎟\n",
       "               2                  2       ⎟\n",
       "             dt                 dt        ⎠\n",
       "───────────────────────────────────────────\n",
       "                                           "
      ]
     },
     "execution_count": 16,
     "metadata": {},
     "output_type": "execute_result"
    }
   ],
   "source": [
    "eqn[1]"
   ]
  },
  {
   "cell_type": "code",
   "execution_count": 17,
   "metadata": {},
   "outputs": [],
   "source": [
    "thetaDd = solve(eqn, [theta[i](t).diff(t).diff(t) for i in range(0,n)])"
   ]
  },
  {
   "cell_type": "code",
   "execution_count": 18,
   "metadata": {},
   "outputs": [
    {
     "data": {
      "image/png": "[encoded data removed]",
      "text/latex": [
       "$$\\left \\{ \\frac{d^{2}}{d t^{2}}  \\theta_{0}{\\left (t \\right )} : \\frac{1}{L_{0} \\left(- m_{0} + m_{1} \\cos^{2}{\\left (\\theta_{0}{\\left (t \\right )} - \\theta_{1}{\\left (t \\right )} \\right )} - m_{1}\\right)} \\left(\\frac{L_{0} m_{1}}{2} \\sin{\\left (2 \\theta_{0}{\\left (t \\right )} - 2 \\theta_{1}{\\left (t \\right )} \\right )} \\left(\\frac{d}{d t} \\theta_{0}{\\left (t \\right )}\\right)^{2} + L_{1} m_{1} \\sin{\\left (\\theta_{0}{\\left (t \\right )} - \\theta_{1}{\\left (t \\right )} \\right )} \\left(\\frac{d}{d t} \\theta_{1}{\\left (t \\right )}\\right)^{2} + g m_{0} \\sin{\\left (\\theta_{0}{\\left (t \\right )} \\right )} + \\frac{g m_{1}}{2} \\sin{\\left (\\theta_{0}{\\left (t \\right )} - 2 \\theta_{1}{\\left (t \\right )} \\right )} + \\frac{g m_{1}}{2} \\sin{\\left (\\theta_{0}{\\left (t \\right )} \\right )}\\right), \\quad \\frac{d^{2}}{d t^{2}}  \\theta_{1}{\\left (t \\right )} : \\frac{1}{L_{1} \\left(- m_{0} + m_{1} \\cos^{2}{\\left (\\theta_{0}{\\left (t \\right )} - \\theta_{1}{\\left (t \\right )} \\right )} - m_{1}\\right)} \\left(\\left(- m_{0} - m_{1}\\right) \\left(L_{0} \\sin{\\left (\\theta_{0}{\\left (t \\right )} - \\theta_{1}{\\left (t \\right )} \\right )} \\left(\\frac{d}{d t} \\theta_{0}{\\left (t \\right )}\\right)^{2} - g \\sin{\\left (\\theta_{1}{\\left (t \\right )} \\right )}\\right) - \\left(L_{1} m_{1} \\sin{\\left (\\theta_{0}{\\left (t \\right )} - \\theta_{1}{\\left (t \\right )} \\right )} \\left(\\frac{d}{d t} \\theta_{1}{\\left (t \\right )}\\right)^{2} + g m_{0} \\sin{\\left (\\theta_{0}{\\left (t \\right )} \\right )} + g m_{1} \\sin{\\left (\\theta_{0}{\\left (t \\right )} \\right )}\\right) \\cos{\\left (\\theta_{0}{\\left (t \\right )} - \\theta_{1}{\\left (t \\right )} \\right )}\\right)\\right \\}$$"
      ],
      "text/plain": [
       "⎧                                                    2                        \n",
       "⎪                                         ⎛d        ⎞                         \n",
       "⎪            L₀⋅m₁⋅sin(2⋅θ₀(t) - 2⋅θ₁(t))⋅⎜──(θ₀(t))⎟                         \n",
       "⎪                                         ⎝dt       ⎠                         \n",
       "⎨  2         ───────────────────────────────────────── + L₁⋅m₁⋅sin(θ₀(t) - θ₁(\n",
       "⎪ d                              2                                            \n",
       "⎪───(θ₀(t)): ─────────────────────────────────────────────────────────────────\n",
       "⎪  2                                                                  ⎛       \n",
       "⎩dt                                                                L₀⋅⎝-m₀ + m\n",
       "\n",
       "                                                                              \n",
       "                                                                              \n",
       "               2                                                              \n",
       "    ⎛d        ⎞                      g⋅m₁⋅sin(θ₀(t) - 2⋅θ₁(t))   g⋅m₁⋅sin(θ₀(t\n",
       "t))⋅⎜──(θ₁(t))⎟  + g⋅m₀⋅sin(θ₀(t)) + ───────────────────────── + ─────────────\n",
       "    ⎝dt       ⎠                                  2                      2     \n",
       "──────────────────────────────────────────────────────────────────────────────\n",
       "     2                    ⎞                                                   \n",
       "₁⋅cos (θ₀(t) - θ₁(t)) - m₁⎠                                                   \n",
       "\n",
       "                                                                              \n",
       "                                                                              \n",
       "                           ⎛                                 2               ⎞\n",
       "))                         ⎜                      ⎛d        ⎞                ⎟\n",
       "──    2         (-m₀ - m₁)⋅⎜L₀⋅sin(θ₀(t) - θ₁(t))⋅⎜──(θ₀(t))⎟  - g⋅sin(θ₁(t))⎟\n",
       "     d                     ⎝                      ⎝dt       ⎠                ⎠\n",
       "──, ───(θ₁(t)): ──────────────────────────────────────────────────────────────\n",
       "      2                                                                       \n",
       "    dt                                                                       L\n",
       "\n",
       "                                                                              \n",
       "                                                                              \n",
       "   ⎛                                    2                                    ⎞\n",
       "   ⎜                         ⎛d        ⎞                                     ⎟\n",
       " - ⎜L₁⋅m₁⋅sin(θ₀(t) - θ₁(t))⋅⎜──(θ₁(t))⎟  + g⋅m₀⋅sin(θ₀(t)) + g⋅m₁⋅sin(θ₀(t))⎟\n",
       "   ⎝                         ⎝dt       ⎠                                     ⎠\n",
       "──────────────────────────────────────────────────────────────────────────────\n",
       "  ⎛            2                    ⎞                                         \n",
       "₁⋅⎝-m₀ + m₁⋅cos (θ₀(t) - θ₁(t)) - m₁⎠                                         \n",
       "\n",
       "                   ⎫\n",
       "                   ⎪\n",
       "                   ⎪\n",
       "                   ⎪\n",
       "⋅cos(θ₀(t) - θ₁(t))⎬\n",
       "                   ⎪\n",
       "───────────────────⎪\n",
       "                   ⎪\n",
       "                   ⎭"
      ]
     },
     "execution_count": 18,
     "metadata": {},
     "output_type": "execute_result"
    }
   ],
   "source": [
    "thetaDd"
   ]
  },
  {
   "cell_type": "code",
   "execution_count": 19,
   "metadata": {},
   "outputs": [
    {
     "data": {
      "image/png": "[encoded data removed]",
      "text/latex": [
       "$$\\frac{1}{L_{1} \\left(- m_{0} + m_{1} \\cos^{2}{\\left (\\theta_{0}{\\left (t \\right )} - \\theta_{1}{\\left (t \\right )} \\right )} - m_{1}\\right)} \\left(\\left(- m_{0} - m_{1}\\right) \\left(L_{0} \\sin{\\left (\\theta_{0}{\\left (t \\right )} - \\theta_{1}{\\left (t \\right )} \\right )} \\left(\\frac{d}{d t} \\theta_{0}{\\left (t \\right )}\\right)^{2} - g \\sin{\\left (\\theta_{1}{\\left (t \\right )} \\right )}\\right) - \\left(L_{1} m_{1} \\sin{\\left (\\theta_{0}{\\left (t \\right )} - \\theta_{1}{\\left (t \\right )} \\right )} \\left(\\frac{d}{d t} \\theta_{1}{\\left (t \\right )}\\right)^{2} + g m_{0} \\sin{\\left (\\theta_{0}{\\left (t \\right )} \\right )} + g m_{1} \\sin{\\left (\\theta_{0}{\\left (t \\right )} \\right )}\\right) \\cos{\\left (\\theta_{0}{\\left (t \\right )} - \\theta_{1}{\\left (t \\right )} \\right )}\\right)$$"
      ],
      "text/plain": [
       "           ⎛                                 2               ⎞   ⎛            \n",
       "           ⎜                      ⎛d        ⎞                ⎟   ⎜            \n",
       "(-m₀ - m₁)⋅⎜L₀⋅sin(θ₀(t) - θ₁(t))⋅⎜──(θ₀(t))⎟  - g⋅sin(θ₁(t))⎟ - ⎜L₁⋅m₁⋅sin(θ₀\n",
       "           ⎝                      ⎝dt       ⎠                ⎠   ⎝            \n",
       "──────────────────────────────────────────────────────────────────────────────\n",
       "                                                                ⎛            2\n",
       "                                                             L₁⋅⎝-m₀ + m₁⋅cos \n",
       "\n",
       "                        2                                    ⎞                \n",
       "             ⎛d        ⎞                                     ⎟                \n",
       "(t) - θ₁(t))⋅⎜──(θ₁(t))⎟  + g⋅m₀⋅sin(θ₀(t)) + g⋅m₁⋅sin(θ₀(t))⎟⋅cos(θ₀(t) - θ₁(\n",
       "             ⎝dt       ⎠                                     ⎠                \n",
       "──────────────────────────────────────────────────────────────────────────────\n",
       "                    ⎞                                                         \n",
       "(θ₀(t) - θ₁(t)) - m₁⎠                                                         \n",
       "\n",
       "   \n",
       "   \n",
       "t))\n",
       "   \n",
       "───\n",
       "   \n",
       "   "
      ]
     },
     "execution_count": 19,
     "metadata": {},
     "output_type": "execute_result"
    }
   ],
   "source": [
    "thetaDd[theta[1](t).diff(t).diff(t)]"
   ]
  },
  {
   "cell_type": "code",
   "execution_count": 20,
   "metadata": {},
   "outputs": [
    {
     "data": {
      "image/png": "[encoded data removed]",
      "text/latex": [
       "$$\\left [ \\frac{1}{L_{0} \\left(- m_{0} + m_{1} \\cos^{2}{\\left (\\theta_{0} - \\theta_{1} \\right )} - m_{1}\\right)} \\left(\\frac{L_{0} m_{1}}{2} \\dot{\\theta}_{0}^{2} \\sin{\\left (2 \\theta_{0} - 2 \\theta_{1} \\right )} + L_{1} m_{1} \\dot{\\theta}_{1}^{2} \\sin{\\left (\\theta_{0} - \\theta_{1} \\right )} + g m_{0} \\sin{\\left (\\theta_{0} \\right )} + \\frac{g m_{1}}{2} \\sin{\\left (\\theta_{0} \\right )} + \\frac{g m_{1}}{2} \\sin{\\left (\\theta_{0} - 2 \\theta_{1} \\right )}\\right), \\quad \\frac{1}{L_{1} \\left(- m_{0} + m_{1} \\cos^{2}{\\left (\\theta_{0} - \\theta_{1} \\right )} - m_{1}\\right)} \\left(\\left(- m_{0} - m_{1}\\right) \\left(L_{0} \\dot{\\theta}_{0}^{2} \\sin{\\left (\\theta_{0} - \\theta_{1} \\right )} - g \\sin{\\left (\\theta_{1} \\right )}\\right) - \\left(L_{1} m_{1} \\dot{\\theta}_{1}^{2} \\sin{\\left (\\theta_{0} - \\theta_{1} \\right )} + g m_{0} \\sin{\\left (\\theta_{0} \\right )} + g m_{1} \\sin{\\left (\\theta_{0} \\right )}\\right) \\cos{\\left (\\theta_{0} - \\theta_{1} \\right )}\\right)\\right ]$$"
      ],
      "text/plain": [
       "⎡         2                                                                   \n",
       "⎢L₀⋅m₁⋅θ̇₀ ⋅sin(2⋅θ₀ - 2⋅θ₁)            2                               g⋅m₁⋅s\n",
       "⎢─────────────────────────── + L₁⋅m₁⋅θ̇₁ ⋅sin(θ₀ - θ₁) + g⋅m₀⋅sin(θ₀) + ──────\n",
       "⎢             2                                                              2\n",
       "⎢─────────────────────────────────────────────────────────────────────────────\n",
       "⎢                                        ⎛            2              ⎞        \n",
       "⎣                                     L₀⋅⎝-m₀ + m₁⋅cos (θ₀ - θ₁) - m₁⎠        \n",
       "\n",
       "                                                                              \n",
       "in(θ₀)   g⋅m₁⋅sin(θ₀ - 2⋅θ₁)                                                  \n",
       "────── + ───────────────────             ⎛      2                         ⎞   \n",
       "                  2           (-m₀ - m₁)⋅⎝L₀⋅θ̇₀ ⋅sin(θ₀ - θ₁) - g⋅sin(θ₁)⎠ - \n",
       "────────────────────────────, ────────────────────────────────────────────────\n",
       "                                                                           ⎛  \n",
       "                                                                        L₁⋅⎝-m\n",
       "\n",
       "                                                                    ⎤\n",
       "                                                                    ⎥\n",
       "⎛         2                                           ⎞             ⎥\n",
       "⎝L₁⋅m₁⋅θ̇₁ ⋅sin(θ₀ - θ₁) + g⋅m₀⋅sin(θ₀) + g⋅m₁⋅sin(θ₀)⎠⋅cos(θ₀ - θ₁)⎥\n",
       "────────────────────────────────────────────────────────────────────⎥\n",
       "          2              ⎞                                          ⎥\n",
       "₀ + m₁⋅cos (θ₀ - θ₁) - m₁⎠                                          ⎦"
      ]
     },
     "execution_count": 20,
     "metadata": {},
     "output_type": "execute_result"
    }
   ],
   "source": [
    "system_thetadotdot = [thetaDd[theta[j](t).diff(t, t)].\\\n",
    "                      subs([elem for elem_ in [\\\n",
    "                       [(theta[k](t).diff(t), thetadot[k]) for k in range(0,2)],\\\n",
    "                       [(theta[k](t), theta[k]) for k in range(0,2)]\\\n",
    "                      ] for elem in elem_]) for j in range(0,n)]\n",
    "system_thetadotdot"
   ]
  },
  {
   "cell_type": "code",
   "execution_count": 21,
   "metadata": {},
   "outputs": [
    {
     "data": {
      "image/png": "[encoded data removed]",
      "text/latex": [
       "$$\\left [ L_{0} \\dot{\\theta}_{0}{\\left (t \\right )} \\cos{\\left (\\theta_{0}{\\left (t \\right )} \\right )}, \\quad L_{0} \\dot{\\theta}_{0}{\\left (t \\right )} \\cos{\\left (\\theta_{0}{\\left (t \\right )} \\right )} + L_{1} \\dot{\\theta}_{1}{\\left (t \\right )} \\cos{\\left (\\theta_{1}{\\left (t \\right )} \\right )}\\right ]$$"
      ],
      "text/plain": [
       "[L₀⋅θ̇₀(t)⋅cos(θ₀(t)), L₀⋅θ̇₀(t)⋅cos(θ₀(t)) + L₁⋅θ̇₁(t)⋅cos(θ₁(t))]"
      ]
     },
     "execution_count": 21,
     "metadata": {},
     "output_type": "execute_result"
    }
   ],
   "source": [
    "system_xdot = [x[i].diff(t).subs([(theta[j](t).diff(t), thetadot[j](t)) for j in range(0, n)]) for i in range(0, n)]\n",
    "system_xdot"
   ]
  },
  {
   "cell_type": "code",
   "execution_count": 22,
   "metadata": {},
   "outputs": [
    {
     "data": {
      "image/png": "[encoded data removed]",
      "text/latex": [
       "$$\\left \\{ \\dot{z}_{0} : \\frac{d}{d t} \\theta_{0}{\\left (t \\right )}, \\quad \\dot{z}_{1} : \\frac{d}{d t} \\theta_{1}{\\left (t \\right )}, \\quad \\dot{z}_{2} : \\frac{d}{d t} \\dot{\\theta}_{0}{\\left (t \\right )}, \\quad \\dot{z}_{3} : \\frac{d}{d t} \\dot{\\theta}_{1}{\\left (t \\right )}\\right \\}$$"
      ],
      "text/plain": [
       "⎧     d               d               d                d         ⎫\n",
       "⎨ż₀: ──(θ₀(t)), ż₁: ──(θ₁(t)), ż₂: ──(θ̇₀(t)), ż₃: ──(θ̇₁(t))⎬\n",
       "⎩     dt              dt              dt               dt        ⎭"
      ]
     },
     "execution_count": 22,
     "metadata": {},
     "output_type": "execute_result"
    }
   ],
   "source": [
    "thetadotdot = symarray('thetadotdot', n)\n",
    "z = symarray('z', n*2)\n",
    "z_dot = symarray('zdot', n*2)\n",
    "#z_dot = symbols('z0:4', cls=Function)\n",
    "system_var_dict = {key : value for (key, value) in [elem for elem_ in [\\\n",
    "                                                    [(z[i], theta[i](t)) for i in range(0, n)],\\\n",
    "                                                    [(z[i], thetadot[i-n](t)) for i in range(n, 2*n)]\\\n",
    "                                                   ] for elem in elem_]}\n",
    "\n",
    "system_dict = {key : value for (key, value) in [elem for elem_ in [\\\n",
    "                                                 [(z_dot[i], theta[i](t).diff(t)) for i in range(0, n)],\\\n",
    "                                                 [(z_dot[i], thetadot[i-n](t).diff(t)) for i in range(n, 2*n)]\\\n",
    "                                                ] for elem in  elem_]}\n",
    "system_dict"
   ]
  },
  {
   "cell_type": "code",
   "execution_count": 23,
   "metadata": {},
   "outputs": [
    {
     "data": {
      "image/png": "[encoded data removed]",
      "text/latex": [
       "$$\\left \\{ \\dot{z}_{0} : \\frac{d}{d t} \\theta_{0}{\\left (t \\right )}, \\quad \\dot{z}_{1} : \\frac{d}{d t} \\theta_{1}{\\left (t \\right )}, \\quad \\dot{z}_{2} : \\frac{1}{L_{0} \\left(- m_{0} + m_{1} \\cos^{2}{\\left (\\theta_{0} - \\theta_{1} \\right )} - m_{1}\\right)} \\left(\\frac{L_{0} m_{1}}{2} \\dot{\\theta}_{0}^{2} \\sin{\\left (2 \\theta_{0} - 2 \\theta_{1} \\right )} + L_{1} m_{1} \\dot{\\theta}_{1}^{2} \\sin{\\left (\\theta_{0} - \\theta_{1} \\right )} + g m_{0} \\sin{\\left (\\theta_{0} \\right )} + \\frac{g m_{1}}{2} \\sin{\\left (\\theta_{0} \\right )} + \\frac{g m_{1}}{2} \\sin{\\left (\\theta_{0} - 2 \\theta_{1} \\right )}\\right), \\quad \\dot{z}_{3} : \\frac{1}{L_{1} \\left(- m_{0} + m_{1} \\cos^{2}{\\left (\\theta_{0} - \\theta_{1} \\right )} - m_{1}\\right)} \\left(\\left(- m_{0} - m_{1}\\right) \\left(L_{0} \\dot{\\theta}_{0}^{2} \\sin{\\left (\\theta_{0} - \\theta_{1} \\right )} - g \\sin{\\left (\\theta_{1} \\right )}\\right) - \\left(L_{1} m_{1} \\dot{\\theta}_{1}^{2} \\sin{\\left (\\theta_{0} - \\theta_{1} \\right )} + g m_{0} \\sin{\\left (\\theta_{0} \\right )} + g m_{1} \\sin{\\left (\\theta_{0} \\right )}\\right) \\cos{\\left (\\theta_{0} - \\theta_{1} \\right )}\\right)\\right \\}$$"
      ],
      "text/plain": [
       "⎧                                              2                              \n",
       "⎪                                     L₀⋅m₁⋅θ̇₀ ⋅sin(2⋅θ₀ - 2⋅θ₁)            2\n",
       "⎪                                     ─────────────────────────── + L₁⋅m₁⋅θ̇₁ \n",
       "⎨     d               d                            2                          \n",
       "⎪ż₀: ──(θ₀(t)), ż₁: ──(θ₁(t)), ż₂: ────────────────────────────────────────\n",
       "⎪     dt              dt                                                      \n",
       "⎩                                                                          L₀⋅\n",
       "\n",
       "                                                                              \n",
       "                               g⋅m₁⋅sin(θ₀)   g⋅m₁⋅sin(θ₀ - 2⋅θ₁)             \n",
       "⋅sin(θ₀ - θ₁) + g⋅m₀⋅sin(θ₀) + ──────────── + ───────────────────             \n",
       "                                    2                  2                (-m₀ -\n",
       "─────────────────────────────────────────────────────────────────, ż₃: ──────\n",
       "⎛            2              ⎞                                                 \n",
       "⎝-m₀ + m₁⋅cos (θ₀ - θ₁) - m₁⎠                                                 \n",
       "\n",
       "                                                                              \n",
       "                                                                              \n",
       "     ⎛      2                         ⎞   ⎛         2                         \n",
       " m₁)⋅⎝L₀⋅θ̇₀ ⋅sin(θ₀ - θ₁) - g⋅sin(θ₁)⎠ - ⎝L₁⋅m₁⋅θ̇₁ ⋅sin(θ₀ - θ₁) + g⋅m₀⋅sin(\n",
       "──────────────────────────────────────────────────────────────────────────────\n",
       "                                       ⎛            2              ⎞          \n",
       "                                    L₁⋅⎝-m₀ + m₁⋅cos (θ₀ - θ₁) - m₁⎠          \n",
       "\n",
       "                                ⎫\n",
       "                                ⎪\n",
       "                  ⎞             ⎪\n",
       "θ₀) + g⋅m₁⋅sin(θ₀)⎠⋅cos(θ₀ - θ₁)⎬\n",
       "────────────────────────────────⎪\n",
       "                                ⎪\n",
       "                                ⎭"
      ]
     },
     "execution_count": 23,
     "metadata": {},
     "output_type": "execute_result"
    }
   ],
   "source": [
    "for i in range(n, 2*n): system_dict[z_dot[i]] = system_thetadotdot[i-n]\n",
    "system_dict"
   ]
  },
  {
   "cell_type": "code",
   "execution_count": 24,
   "metadata": {},
   "outputs": [
    {
     "data": {
      "image/png": "[encoded data removed]",
      "text/latex": [
       "$$\\left \\{ L_{0} : 1, \\quad L_{1} : 1, \\quad g : 9.81, \\quad m_{0} : 1, \\quad m_{1} : 2\\right \\}$$"
      ],
      "text/plain": [
       "{L₀: 1, L₁: 1, g: 9.81, m₀: 1, m₁: 2}"
      ]
     },
     "execution_count": 24,
     "metadata": {},
     "output_type": "execute_result"
    }
   ],
   "source": [
    "sys_para = {m[0] : 1, m[1] : 2,\\\n",
    "            l[0] : 1, l[1] : 1, \\\n",
    "            g : 9.81}\n",
    "sys_para"
   ]
  },
  {
   "cell_type": "code",
   "execution_count": 25,
   "metadata": {},
   "outputs": [
    {
     "data": {
      "image/png": "[encoded data removed]",
      "text/latex": [
       "$$\\left \\{ z_{0} : \\theta_{0}{\\left (t \\right )}, \\quad z_{1} : \\theta_{1}{\\left (t \\right )}, \\quad z_{2} : \\dot{\\theta}_{0}{\\left (t \\right )}, \\quad z_{3} : \\dot{\\theta}_{1}{\\left (t \\right )}\\right \\}$$"
      ],
      "text/plain": [
       "{z₀: θ₀(t), z₁: θ₁(t), z₂: θ̇₀(t), z₃: θ̇₁(t)}"
      ]
     },
     "execution_count": 25,
     "metadata": {},
     "output_type": "execute_result"
    }
   ],
   "source": [
    "for i in range(0, n):\n",
    "    system_dict[z_dot[i]] = thetadot[i]\n",
    "    system_dict[z_dot[i+n]] = system_dict[z_dot[i+n]].subs([(key, sys_para[key]) for elem_ in \\\n",
    "                                                                          [m, l, [g]]\\\n",
    "                                                                                          \\\n",
    "                                                       for key in elem_])\n",
    "system_var_dict"
   ]
  },
  {
   "cell_type": "code",
   "execution_count": 26,
   "metadata": {},
   "outputs": [
    {
     "data": {
      "image/png": "[encoded data removed]",
      "text/latex": [
       "$$\\left \\{ \\dot{z}_{0} : \\dot{\\theta}_{0}, \\quad \\dot{z}_{1} : \\dot{\\theta}_{1}, \\quad \\dot{z}_{2} : \\frac{1}{2 \\cos^{2}{\\left (\\theta_{0} - \\theta_{1} \\right )} - 3} \\left(\\dot{\\theta}_{0}^{2} \\sin{\\left (2 \\theta_{0} - 2 \\theta_{1} \\right )} + 2 \\dot{\\theta}_{1}^{2} \\sin{\\left (\\theta_{0} - \\theta_{1} \\right )} + 19.62 \\sin{\\left (\\theta_{0} \\right )} + 9.81 \\sin{\\left (\\theta_{0} - 2 \\theta_{1} \\right )}\\right), \\quad \\dot{z}_{3} : \\frac{1}{2 \\cos^{2}{\\left (\\theta_{0} - \\theta_{1} \\right )} - 3} \\left(- 3 \\dot{\\theta}_{0}^{2} \\sin{\\left (\\theta_{0} - \\theta_{1} \\right )} - \\left(2 \\dot{\\theta}_{1}^{2} \\sin{\\left (\\theta_{0} - \\theta_{1} \\right )} + 29.43 \\sin{\\left (\\theta_{0} \\right )}\\right) \\cos{\\left (\\theta_{0} - \\theta_{1} \\right )} + 29.43 \\sin{\\left (\\theta_{1} \\right )}\\right)\\right \\}$$"
      ],
      "text/plain": [
       "⎧                            2                         2                      \n",
       "⎪                         θ̇₀ ⋅sin(2⋅θ₀ - 2⋅θ₁) + 2⋅θ̇₁ ⋅sin(θ₀ - θ₁) + 19.62⋅\n",
       "⎨ż₀: θ̇₀, ż₁: θ̇₁, ż₂: ────────────────────────────────────────────────────\n",
       "⎪                                                             2               \n",
       "⎩                                                        2⋅cos (θ₀ - θ₁) - 3  \n",
       "\n",
       "                                           2                ⎛     2           \n",
       "sin(θ₀) + 9.81⋅sin(θ₀ - 2⋅θ₁)       - 3⋅θ̇₀ ⋅sin(θ₀ - θ₁) - ⎝2⋅θ̇₁ ⋅sin(θ₀ - θ\n",
       "─────────────────────────────, ż₃: ──────────────────────────────────────────\n",
       "                                                                            2 \n",
       "                                                                       2⋅cos (\n",
       "\n",
       "                  ⎞                             ⎫\n",
       "₁) + 29.43⋅sin(θ₀)⎠⋅cos(θ₀ - θ₁) + 29.43⋅sin(θ₁)⎪\n",
       "────────────────────────────────────────────────⎬\n",
       "                                                ⎪\n",
       "θ₀ - θ₁) - 3                                    ⎭"
      ]
     },
     "execution_count": 26,
     "metadata": {},
     "output_type": "execute_result"
    }
   ],
   "source": [
    "system_dict"
   ]
  },
  {
   "cell_type": "code",
   "execution_count": 27,
   "metadata": {},
   "outputs": [
    {
     "data": {
      "image/png": "[encoded data removed]",
      "text/latex": [
       "$$\\left \\{ \\dot{z}_{0} : z_{2}, \\quad \\dot{z}_{1} : z_{3}, \\quad \\dot{z}_{2} : \\frac{1}{2 \\cos^{2}{\\left (z_{0} - z_{1} \\right )} - 3} \\left(z_{2}^{2} \\sin{\\left (2 z_{0} - 2 z_{1} \\right )} + 2 z_{3}^{2} \\sin{\\left (z_{0} - z_{1} \\right )} + 19.62 \\sin{\\left (z_{0} \\right )} + 9.81 \\sin{\\left (z_{0} - 2 z_{1} \\right )}\\right), \\quad \\dot{z}_{3} : \\frac{1}{2 \\cos^{2}{\\left (z_{0} - z_{1} \\right )} - 3} \\left(- 3 z_{2}^{2} \\sin{\\left (z_{0} - z_{1} \\right )} - \\left(2 z_{3}^{2} \\sin{\\left (z_{0} - z_{1} \\right )} + 29.43 \\sin{\\left (z_{0} \\right )}\\right) \\cos{\\left (z_{0} - z_{1} \\right )} + 29.43 \\sin{\\left (z_{1} \\right )}\\right)\\right \\}$$"
      ],
      "text/plain": [
       "⎧                         2                        2                          \n",
       "⎪                       z₂ ⋅sin(2⋅z₀ - 2⋅z₁) + 2⋅z₃ ⋅sin(z₀ - z₁) + 19.62⋅sin(\n",
       "⎨ż₀: z₂, ż₁: z₃, ż₂: ──────────────────────────────────────────────────────\n",
       "⎪                                                          2                  \n",
       "⎩                                                     2⋅cos (z₀ - z₁) - 3     \n",
       "\n",
       "                                      2                ⎛    2                 \n",
       "z₀) + 9.81⋅sin(z₀ - 2⋅z₁)       - 3⋅z₂ ⋅sin(z₀ - z₁) - ⎝2⋅z₃ ⋅sin(z₀ - z₁) + 2\n",
       "─────────────────────────, ż₃: ──────────────────────────────────────────────\n",
       "                                                                       2      \n",
       "                                                                  2⋅cos (z₀ - \n",
       "\n",
       "            ⎞                             ⎫\n",
       "9.43⋅sin(z₀)⎠⋅cos(z₀ - z₁) + 29.43⋅sin(z₁)⎪\n",
       "──────────────────────────────────────────⎬\n",
       "                                          ⎪\n",
       "z₁) - 3                                   ⎭"
      ]
     },
     "execution_count": 27,
     "metadata": {},
     "output_type": "execute_result"
    }
   ],
   "source": [
    "for i in range(0, n):\n",
    "    system_dict[z_dot[i]] = z[i+n]\n",
    "    system_dict[z_dot[i+n]] = system_dict[z_dot[i+n]].subs([elem for elem_ in[ \\\n",
    "                                                                          [(theta[j], z[j]) for j in range(0,n)],\\\n",
    "                                                                           [(thetadot[j], z[j+n]) for j in range(0,n)]\\\n",
    "                                                           ]for elem in elem_])\n",
    "system_dict"
   ]
  },
  {
   "cell_type": "code",
   "execution_count": 28,
   "metadata": {},
   "outputs": [
    {
     "data": {
      "text/plain": [
       "[f0, f1, f2, f3]"
      ]
     },
     "execution_count": 28,
     "metadata": {},
     "output_type": "execute_result"
    }
   ],
   "source": [
    "f = list(symbols('f0:4', cls=Function))\n",
    "f"
   ]
  },
  {
   "cell_type": "markdown",
   "metadata": {
    "collapsed": true
   },
   "source": [
    "NumPy"
   ]
  },
  {
   "cell_type": "markdown",
   "metadata": {},
   "source": [
    "z_input = [theta[0], theta[1], thetadot[0], thetadot[1]]"
   ]
  },
  {
   "cell_type": "code",
   "execution_count": 29,
   "metadata": {},
   "outputs": [
    {
     "data": {
      "text/plain": [
       "array([ 3.15159265,  3.14159265,  0.        ,  0.        ])"
      ]
     },
     "execution_count": 29,
     "metadata": {},
     "output_type": "execute_result"
    }
   ],
   "source": [
    "z_input = np.array([np.pi+0.01, np.pi, 0, 0])\n",
    "z_input"
   ]
  },
  {
   "cell_type": "code",
   "execution_count": 30,
   "metadata": {},
   "outputs": [],
   "source": [
    "for i in range(0, 2*n):\n",
    "    f[i] = lambdify(z, system_dict[z_dot[i]])"
   ]
  },
  {
   "cell_type": "code",
   "execution_count": 31,
   "metadata": {},
   "outputs": [],
   "source": [
    "from scipy.integrate import odeint"
   ]
  },
  {
   "cell_type": "code",
   "execution_count": 32,
   "metadata": {},
   "outputs": [],
   "source": [
    "num_iter = 100000\n",
    "h = 0.01\n",
    "t_linspace = np.linspace(0, num_iter * h, num_iter, endpoint=False)"
   ]
  },
  {
   "cell_type": "code",
   "execution_count": 33,
   "metadata": {},
   "outputs": [],
   "source": [
    "def func(z0123, t):\n",
    "    return [f[i](*z0123) for i in range (0, 2*n)]"
   ]
  },
  {
   "cell_type": "code",
   "execution_count": 34,
   "metadata": {},
   "outputs": [],
   "source": [
    "z_t = odeint(func, z_input, t_linspace)"
   ]
  },
  {
   "cell_type": "code",
   "execution_count": 35,
   "metadata": {},
   "outputs": [],
   "source": [
    "for i in range(0,n):\n",
    "    x[i] = x[i].subs([(key, sys_para[key]) for elem_ in \\\n",
    "                                                                          [m, l, [g]]\\\n",
    "                                                                                          \\\n",
    "                                                       for key in elem_])\n",
    "    y[i] = y[i].subs([(key, sys_para[key]) for elem_ in \\\n",
    "                                                                          [m, l, [g]]\\\n",
    "                                                                                          \\\n",
    "                                                       for key in elem_])\n"
   ]
  },
  {
   "cell_type": "code",
   "execution_count": 36,
   "metadata": {},
   "outputs": [],
   "source": [
    "x_func = [lambdify([theta[j](t) for j in range(0, 2)], x[i]) for i in range(0, n)]\n",
    "y_func = [lambdify([theta[j](t) for j in range(0, 2)], y[i]) for i in range(0, n)]"
   ]
  },
  {
   "cell_type": "code",
   "execution_count": 37,
   "metadata": {},
   "outputs": [
    {
     "data": {
      "image/png": "[encoded data removed]",
      "text/latex": [
       "$$-0.00999983333417$$"
      ],
      "text/plain": [
       "-0.0099998333341663297"
      ]
     },
     "execution_count": 37,
     "metadata": {},
     "output_type": "execute_result"
    }
   ],
   "source": [
    "x_func[0](z_t[0, 0], z_t[0, 1])"
   ]
  },
  {
   "cell_type": "code",
   "execution_count": 38,
   "metadata": {},
   "outputs": [
    {
     "data": {
      "application/javascript": [
       "/* Put everything inside the global mpl namespace */\n",
       "window.mpl = {};\n",
       "\n",
       "mpl.get_websocket_type = function() {\n",
       "    if (typeof(WebSocket) !== 'undefined') {\n",
       "        return WebSocket;\n",
       "    } else if (typeof(MozWebSocket) !== 'undefined') {\n",
       "        return MozWebSocket;\n",
       "    } else {\n",
       "        alert('Your browser does not have WebSocket support.' +\n",
       "              'Please try Chrome, Safari or Firefox ≥ 6. ' +\n",
       "              'Firefox 4 and 5 are also supported but you ' +\n",
       "              'have to enable WebSockets in about:config.');\n",
       "    };\n",
       "}\n",
       "\n",
       "mpl.figure = function(figure_id, websocket, ondownload, parent_element) {\n",
       "    this.id = figure_id;\n",
       "\n",
       "    this.ws = websocket;\n",
       "\n",
       "    this.supports_binary = (this.ws.binaryType != undefined);\n",
       "\n",
       "    if (!this.supports_binary) {\n",
       "        var warnings = document.getElementById(\"mpl-warnings\");\n",
       "        if (warnings) {\n",
       "            warnings.style.display = 'block';\n",
       "            warnings.textContent = (\n",
       "                \"This browser does not support binary websocket messages. \" +\n",
       "                    \"Performance may be slow.\");\n",
       "        }\n",
       "    }\n",
       "\n",
       "    this.imageObj = new Image();\n",
       "\n",
       "    this.context = undefined;\n",
       "    this.message = undefined;\n",
       "    this.canvas = undefined;\n",
       "    this.rubberband_canvas = undefined;\n",
       "    this.rubberband_context = undefined;\n",
       "    this.format_dropdown = undefined;\n",
       "\n",
       "    this.image_mode = 'full';\n",
       "\n",
       "    this.root = $('<div/>');\n",
       "    this._root_extra_style(this.root)\n",
       "    this.root.attr('style', 'display: inline-block');\n",
       "\n",
       "    $(parent_element).append(this.root);\n",
       "\n",
       "    this._init_header(this);\n",
       "    this._init_canvas(this);\n",
       "    this._init_toolbar(this);\n",
       "\n",
       "    var fig = this;\n",
       "\n",
       "    this.waiting = false;\n",
       "\n",
       "    this.ws.onopen =  function () {\n",
       "            fig.send_message(\"supports_binary\", {value: fig.supports_binary});\n",
       "            fig.send_message(\"send_image_mode\", {});\n",
       "            fig.send_message(\"refresh\", {});\n",
       "        }\n",
       "\n",
       "    this.imageObj.onload = function() {\n",
       "            if (fig.image_mode == 'full') {\n",
       "                // Full images could contain transparency (where diff images\n",
       "                // almost always do), so we need to clear the canvas so that\n",
       "                // there is no ghosting.\n",
       "                fig.context.clearRect(0, 0, fig.canvas.width, fig.canvas.height);\n",
       "            }\n",
       "            fig.context.drawImage(fig.imageObj, 0, 0);\n",
       "        };\n",
       "\n",
       "    this.imageObj.onunload = function() {\n",
       "        this.ws.close();\n",
       "    }\n",
       "\n",
       "    this.ws.onmessage = this._make_on_message_function(this);\n",
       "\n",
       "    this.ondownload = ondownload;\n",
       "}\n",
       "\n",
       "mpl.figure.prototype._init_header = function() {\n",
       "    var titlebar = $(\n",
       "        '<div class=\"ui-dialog-titlebar ui-widget-header ui-corner-all ' +\n",
       "        'ui-helper-clearfix\"/>');\n",
       "    var titletext = $(\n",
       "        '<div class=\"ui-dialog-title\" style=\"width: 100%; ' +\n",
       "        'text-align: center; padding: 3px;\"/>');\n",
       "    titlebar.append(titletext)\n",
       "    this.root.append(titlebar);\n",
       "    this.header = titletext[0];\n",
       "}\n",
       "\n",
       "\n",
       "\n",
       "mpl.figure.prototype._canvas_extra_style = function(canvas_div) {\n",
       "\n",
       "}\n",
       "\n",
       "\n",
       "mpl.figure.prototype._root_extra_style = function(canvas_div) {\n",
       "\n",
       "}\n",
       "\n",
       "mpl.figure.prototype._init_canvas = function() {\n",
       "    var fig = this;\n",
       "\n",
       "    var canvas_div = $('<div/>');\n",
       "\n",
       "    canvas_div.attr('style', 'position: relative; clear: both; outline: 0');\n",
       "\n",
       "    function canvas_keyboard_event(event) {\n",
       "        return fig.key_event(event, event['data']);\n",
       "    }\n",
       "\n",
       "    canvas_div.keydown('key_press', canvas_keyboard_event);\n",
       "    canvas_div.keyup('key_release', canvas_keyboard_event);\n",
       "    this.canvas_div = canvas_div\n",
       "    this._canvas_extra_style(canvas_div)\n",
       "    this.root.append(canvas_div);\n",
       "\n",
       "    var canvas = $('<canvas/>');\n",
       "    canvas.addClass('mpl-canvas');\n",
       "    canvas.attr('style', \"left: 0; top: 0; z-index: 0; outline: 0\")\n",
       "\n",
       "    this.canvas = canvas[0];\n",
       "    this.context = canvas[0].getContext(\"2d\");\n",
       "\n",
       "    var rubberband = $('<canvas/>');\n",
       "    rubberband.attr('style', \"position: absolute; left: 0; top: 0; z-index: 1;\")\n",
       "\n",
       "    var pass_mouse_events = true;\n",
       "\n",
       "    canvas_div.resizable({\n",
       "        start: function(event, ui) {\n",
       "            pass_mouse_events = false;\n",
       "        },\n",
       "        resize: function(event, ui) {\n",
       "            fig.request_resize(ui.size.width, ui.size.height);\n",
       "        },\n",
       "        stop: function(event, ui) {\n",
       "            pass_mouse_events = true;\n",
       "            fig.request_resize(ui.size.width, ui.size.height);\n",
       "        },\n",
       "    });\n",
       "\n",
       "    function mouse_event_fn(event) {\n",
       "        if (pass_mouse_events)\n",
       "            return fig.mouse_event(event, event['data']);\n",
       "    }\n",
       "\n",
       "    rubberband.mousedown('button_press', mouse_event_fn);\n",
       "    rubberband.mouseup('button_release', mouse_event_fn);\n",
       "    // Throttle sequential mouse events to 1 every 20ms.\n",
       "    rubberband.mousemove('motion_notify', mouse_event_fn);\n",
       "\n",
       "    rubberband.mouseenter('figure_enter', mouse_event_fn);\n",
       "    rubberband.mouseleave('figure_leave', mouse_event_fn);\n",
       "\n",
       "    canvas_div.on(\"wheel\", function (event) {\n",
       "        event = event.originalEvent;\n",
       "        event['data'] = 'scroll'\n",
       "        if (event.deltaY < 0) {\n",
       "            event.step = 1;\n",
       "        } else {\n",
       "            event.step = -1;\n",
       "        }\n",
       "        mouse_event_fn(event);\n",
       "    });\n",
       "\n",
       "    canvas_div.append(canvas);\n",
       "    canvas_div.append(rubberband);\n",
       "\n",
       "    this.rubberband = rubberband;\n",
       "    this.rubberband_canvas = rubberband[0];\n",
       "    this.rubberband_context = rubberband[0].getContext(\"2d\");\n",
       "    this.rubberband_context.strokeStyle = \"#000000\";\n",
       "\n",
       "    this._resize_canvas = function(width, height) {\n",
       "        // Keep the size of the canvas, canvas container, and rubber band\n",
       "        // canvas in synch.\n",
       "        canvas_div.css('width', width)\n",
       "        canvas_div.css('height', height)\n",
       "\n",
       "        canvas.attr('width', width);\n",
       "        canvas.attr('height', height);\n",
       "\n",
       "        rubberband.attr('width', width);\n",
       "        rubberband.attr('height', height);\n",
       "    }\n",
       "\n",
       "    // Set the figure to an initial 600x600px, this will subsequently be updated\n",
       "    // upon first draw.\n",
       "    this._resize_canvas(600, 600);\n",
       "\n",
       "    // Disable right mouse context menu.\n",
       "    $(this.rubberband_canvas).bind(\"contextmenu\",function(e){\n",
       "        return false;\n",
       "    });\n",
       "\n",
       "    function set_focus () {\n",
       "        canvas.focus();\n",
       "        canvas_div.focus();\n",
       "    }\n",
       "\n",
       "    window.setTimeout(set_focus, 100);\n",
       "}\n",
       "\n",
       "mpl.figure.prototype._init_toolbar = function() {\n",
       "    var fig = this;\n",
       "\n",
       "    var nav_element = $('<div/>')\n",
       "    nav_element.attr('style', 'width: 100%');\n",
       "    this.root.append(nav_element);\n",
       "\n",
       "    // Define a callback function for later on.\n",
       "    function toolbar_event(event) {\n",
       "        return fig.toolbar_button_onclick(event['data']);\n",
       "    }\n",
       "    function toolbar_mouse_event(event) {\n",
       "        return fig.toolbar_button_onmouseover(event['data']);\n",
       "    }\n",
       "\n",
       "    for(var toolbar_ind in mpl.toolbar_items) {\n",
       "        var name = mpl.toolbar_items[toolbar_ind][0];\n",
       "        var tooltip = mpl.toolbar_items[toolbar_ind][1];\n",
       "        var image = mpl.toolbar_items[toolbar_ind][2];\n",
       "        var method_name = mpl.toolbar_items[toolbar_ind][3];\n",
       "\n",
       "        if (!name) {\n",
       "            // put a spacer in here.\n",
       "            continue;\n",
       "        }\n",
       "        var button = $('<button/>');\n",
       "        button.addClass('ui-button ui-widget ui-state-default ui-corner-all ' +\n",
       "                        'ui-button-icon-only');\n",
       "        button.attr('role', 'button');\n",
       "        button.attr('aria-disabled', 'false');\n",
       "        button.click(method_name, toolbar_event);\n",
       "        button.mouseover(tooltip, toolbar_mouse_event);\n",
       "\n",
       "        var icon_img = $('<span/>');\n",
       "        icon_img.addClass('ui-button-icon-primary ui-icon');\n",
       "        icon_img.addClass(image);\n",
       "        icon_img.addClass('ui-corner-all');\n",
       "\n",
       "        var tooltip_span = $('<span/>');\n",
       "        tooltip_span.addClass('ui-button-text');\n",
       "        tooltip_span.html(tooltip);\n",
       "\n",
       "        button.append(icon_img);\n",
       "        button.append(tooltip_span);\n",
       "\n",
       "        nav_element.append(button);\n",
       "    }\n",
       "\n",
       "    var fmt_picker_span = $('<span/>');\n",
       "\n",
       "    var fmt_picker = $('<select/>');\n",
       "    fmt_picker.addClass('mpl-toolbar-option ui-widget ui-widget-content');\n",
       "    fmt_picker_span.append(fmt_picker);\n",
       "    nav_element.append(fmt_picker_span);\n",
       "    this.format_dropdown = fmt_picker[0];\n",
       "\n",
       "    for (var ind in mpl.extensions) {\n",
       "        var fmt = mpl.extensions[ind];\n",
       "        var option = $(\n",
       "            '<option/>', {selected: fmt === mpl.default_extension}).html(fmt);\n",
       "        fmt_picker.append(option)\n",
       "    }\n",
       "\n",
       "    // Add hover states to the ui-buttons\n",
       "    $( \".ui-button\" ).hover(\n",
       "        function() { $(this).addClass(\"ui-state-hover\");},\n",
       "        function() { $(this).removeClass(\"ui-state-hover\");}\n",
       "    );\n",
       "\n",
       "    var status_bar = $('<span class=\"mpl-message\"/>');\n",
       "    nav_element.append(status_bar);\n",
       "    this.message = status_bar[0];\n",
       "}\n",
       "\n",
       "mpl.figure.prototype.request_resize = function(x_pixels, y_pixels) {\n",
       "    // Request matplotlib to resize the figure. Matplotlib will then trigger a resize in the client,\n",
       "    // which will in turn request a refresh of the image.\n",
       "    this.send_message('resize', {'width': x_pixels, 'height': y_pixels});\n",
       "}\n",
       "\n",
       "mpl.figure.prototype.send_message = function(type, properties) {\n",
       "    properties['type'] = type;\n",
       "    properties['figure_id'] = this.id;\n",
       "    this.ws.send(JSON.stringify(properties));\n",
       "}\n",
       "\n",
       "mpl.figure.prototype.send_draw_message = function() {\n",
       "    if (!this.waiting) {\n",
       "        this.waiting = true;\n",
       "        this.ws.send(JSON.stringify({type: \"draw\", figure_id: this.id}));\n",
       "    }\n",
       "}\n",
       "\n",
       "\n",
       "mpl.figure.prototype.handle_save = function(fig, msg) {\n",
       "    var format_dropdown = fig.format_dropdown;\n",
       "    var format = format_dropdown.options[format_dropdown.selectedIndex].value;\n",
       "    fig.ondownload(fig, format);\n",
       "}\n",
       "\n",
       "\n",
       "mpl.figure.prototype.handle_resize = function(fig, msg) {\n",
       "    var size = msg['size'];\n",
       "    if (size[0] != fig.canvas.width || size[1] != fig.canvas.height) {\n",
       "        fig._resize_canvas(size[0], size[1]);\n",
       "        fig.send_message(\"refresh\", {});\n",
       "    };\n",
       "}\n",
       "\n",
       "mpl.figure.prototype.handle_rubberband = function(fig, msg) {\n",
       "    var x0 = msg['x0'];\n",
       "    var y0 = fig.canvas.height - msg['y0'];\n",
       "    var x1 = msg['x1'];\n",
       "    var y1 = fig.canvas.height - msg['y1'];\n",
       "    x0 = Math.floor(x0) + 0.5;\n",
       "    y0 = Math.floor(y0) + 0.5;\n",
       "    x1 = Math.floor(x1) + 0.5;\n",
       "    y1 = Math.floor(y1) + 0.5;\n",
       "    var min_x = Math.min(x0, x1);\n",
       "    var min_y = Math.min(y0, y1);\n",
       "    var width = Math.abs(x1 - x0);\n",
       "    var height = Math.abs(y1 - y0);\n",
       "\n",
       "    fig.rubberband_context.clearRect(\n",
       "        0, 0, fig.canvas.width, fig.canvas.height);\n",
       "\n",
       "    fig.rubberband_context.strokeRect(min_x, min_y, width, height);\n",
       "}\n",
       "\n",
       "mpl.figure.prototype.handle_figure_label = function(fig, msg) {\n",
       "    // Updates the figure title.\n",
       "    fig.header.textContent = msg['label'];\n",
       "}\n",
       "\n",
       "mpl.figure.prototype.handle_cursor = function(fig, msg) {\n",
       "    var cursor = msg['cursor'];\n",
       "    switch(cursor)\n",
       "    {\n",
       "    case 0:\n",
       "        cursor = 'pointer';\n",
       "        break;\n",
       "    case 1:\n",
       "        cursor = 'default';\n",
       "        break;\n",
       "    case 2:\n",
       "        cursor = 'crosshair';\n",
       "        break;\n",
       "    case 3:\n",
       "        cursor = 'move';\n",
       "        break;\n",
       "    }\n",
       "    fig.rubberband_canvas.style.cursor = cursor;\n",
       "}\n",
       "\n",
       "mpl.figure.prototype.handle_message = function(fig, msg) {\n",
       "    fig.message.textContent = msg['message'];\n",
       "}\n",
       "\n",
       "mpl.figure.prototype.handle_draw = function(fig, msg) {\n",
       "    // Request the server to send over a new figure.\n",
       "    fig.send_draw_message();\n",
       "}\n",
       "\n",
       "mpl.figure.prototype.handle_image_mode = function(fig, msg) {\n",
       "    fig.image_mode = msg['mode'];\n",
       "}\n",
       "\n",
       "mpl.figure.prototype.updated_canvas_event = function() {\n",
       "    // Called whenever the canvas gets updated.\n",
       "    this.send_message(\"ack\", {});\n",
       "}\n",
       "\n",
       "// A function to construct a web socket function for onmessage handling.\n",
       "// Called in the figure constructor.\n",
       "mpl.figure.prototype._make_on_message_function = function(fig) {\n",
       "    return function socket_on_message(evt) {\n",
       "        if (evt.data instanceof Blob) {\n",
       "            /* FIXME: We get \"Resource interpreted as Image but\n",
       "             * transferred with MIME type text/plain:\" errors on\n",
       "             * Chrome.  But how to set the MIME type?  It doesn't seem\n",
       "             * to be part of the websocket stream */\n",
       "            evt.data.type = \"image/png\";\n",
       "\n",
       "            /* Free the memory for the previous frames */\n",
       "            if (fig.imageObj.src) {\n",
       "                (window.URL || window.webkitURL).revokeObjectURL(\n",
       "                    fig.imageObj.src);\n",
       "            }\n",
       "\n",
       "            fig.imageObj.src = (window.URL || window.webkitURL).createObjectURL(\n",
       "                evt.data);\n",
       "            fig.updated_canvas_event();\n",
       "            fig.waiting = false;\n",
       "            return;\n",
       "        }\n",
       "        else if (typeof evt.data === 'string' && evt.data.slice(0, 21) == \"data:image/png;base64\") {\n",
       "            fig.imageObj.src = evt.data;\n",
       "            fig.updated_canvas_event();\n",
       "            fig.waiting = false;\n",
       "            return;\n",
       "        }\n",
       "\n",
       "        var msg = JSON.parse(evt.data);\n",
       "        var msg_type = msg['type'];\n",
       "\n",
       "        // Call the  \"handle_{type}\" callback, which takes\n",
       "        // the figure and JSON message as its only arguments.\n",
       "        try {\n",
       "            var callback = fig[\"handle_\" + msg_type];\n",
       "        } catch (e) {\n",
       "            console.log(\"No handler for the '\" + msg_type + \"' message type: \", msg);\n",
       "            return;\n",
       "        }\n",
       "\n",
       "        if (callback) {\n",
       "            try {\n",
       "                // console.log(\"Handling '\" + msg_type + \"' message: \", msg);\n",
       "                callback(fig, msg);\n",
       "            } catch (e) {\n",
       "                console.log(\"Exception inside the 'handler_\" + msg_type + \"' callback:\", e, e.stack, msg);\n",
       "            }\n",
       "        }\n",
       "    };\n",
       "}\n",
       "\n",
       "// from http://stackoverflow.com/questions/1114465/getting-mouse-location-in-canvas\n",
       "mpl.findpos = function(e) {\n",
       "    //this section is from http://www.quirksmode.org/js/events_properties.html\n",
       "    var targ;\n",
       "    if (!e)\n",
       "        e = window.event;\n",
       "    if (e.target)\n",
       "        targ = e.target;\n",
       "    else if (e.srcElement)\n",
       "        targ = e.srcElement;\n",
       "    if (targ.nodeType == 3) // defeat Safari bug\n",
       "        targ = targ.parentNode;\n",
       "\n",
       "    // jQuery normalizes the pageX and pageY\n",
       "    // pageX,Y are the mouse positions relative to the document\n",
       "    // offset() returns the position of the element relative to the document\n",
       "    var x = e.pageX - $(targ).offset().left;\n",
       "    var y = e.pageY - $(targ).offset().top;\n",
       "\n",
       "    return {\"x\": x, \"y\": y};\n",
       "};\n",
       "\n",
       "/*\n",
       " * return a copy of an object with only non-object keys\n",
       " * we need this to avoid circular references\n",
       " * http://stackoverflow.com/a/24161582/3208463\n",
       " */\n",
       "function simpleKeys (original) {\n",
       "  return Object.keys(original).reduce(function (obj, key) {\n",
       "    if (typeof original[key] !== 'object')\n",
       "        obj[key] = original[key]\n",
       "    return obj;\n",
       "  }, {});\n",
       "}\n",
       "\n",
       "mpl.figure.prototype.mouse_event = function(event, name) {\n",
       "    var canvas_pos = mpl.findpos(event)\n",
       "\n",
       "    if (name === 'button_press')\n",
       "    {\n",
       "        this.canvas.focus();\n",
       "        this.canvas_div.focus();\n",
       "    }\n",
       "\n",
       "    var x = canvas_pos.x;\n",
       "    var y = canvas_pos.y;\n",
       "\n",
       "    this.send_message(name, {x: x, y: y, button: event.button,\n",
       "                             step: event.step,\n",
       "                             guiEvent: simpleKeys(event)});\n",
       "\n",
       "    /* This prevents the web browser from automatically changing to\n",
       "     * the text insertion cursor when the button is pressed.  We want\n",
       "     * to control all of the cursor setting manually through the\n",
       "     * 'cursor' event from matplotlib */\n",
       "    event.preventDefault();\n",
       "    return false;\n",
       "}\n",
       "\n",
       "mpl.figure.prototype._key_event_extra = function(event, name) {\n",
       "    // Handle any extra behaviour associated with a key event\n",
       "}\n",
       "\n",
       "mpl.figure.prototype.key_event = function(event, name) {\n",
       "\n",
       "    // Prevent repeat events\n",
       "    if (name == 'key_press')\n",
       "    {\n",
       "        if (event.which === this._key)\n",
       "            return;\n",
       "        else\n",
       "            this._key = event.which;\n",
       "    }\n",
       "    if (name == 'key_release')\n",
       "        this._key = null;\n",
       "\n",
       "    var value = '';\n",
       "    if (event.ctrlKey && event.which != 17)\n",
       "        value += \"ctrl+\";\n",
       "    if (event.altKey && event.which != 18)\n",
       "        value += \"alt+\";\n",
       "    if (event.shiftKey && event.which != 16)\n",
       "        value += \"shift+\";\n",
       "\n",
       "    value += 'k';\n",
       "    value += event.which.toString();\n",
       "\n",
       "    this._key_event_extra(event, name);\n",
       "\n",
       "    this.send_message(name, {key: value,\n",
       "                             guiEvent: simpleKeys(event)});\n",
       "    return false;\n",
       "}\n",
       "\n",
       "mpl.figure.prototype.toolbar_button_onclick = function(name) {\n",
       "    if (name == 'download') {\n",
       "        this.handle_save(this, null);\n",
       "    } else {\n",
       "        this.send_message(\"toolbar_button\", {name: name});\n",
       "    }\n",
       "};\n",
       "\n",
       "mpl.figure.prototype.toolbar_button_onmouseover = function(tooltip) {\n",
       "    this.message.textContent = tooltip;\n",
       "};\n",
       "mpl.toolbar_items = [[\"Home\", \"Reset original view\", \"fa fa-home icon-home\", \"home\"], [\"Back\", \"Back to  previous view\", \"fa fa-arrow-left icon-arrow-left\", \"back\"], [\"Forward\", \"Forward to next view\", \"fa fa-arrow-right icon-arrow-right\", \"forward\"], [\"\", \"\", \"\", \"\"], [\"Pan\", \"Pan axes with left mouse, zoom with right\", \"fa fa-arrows icon-move\", \"pan\"], [\"Zoom\", \"Zoom to rectangle\", \"fa fa-square-o icon-check-empty\", \"zoom\"], [\"\", \"\", \"\", \"\"], [\"Download\", \"Download plot\", \"fa fa-floppy-o icon-save\", \"download\"]];\n",
       "\n",
       "mpl.extensions = [\"eps\", \"pdf\", \"png\", \"ps\", \"raw\", \"svg\"];\n",
       "\n",
       "mpl.default_extension = \"png\";var comm_websocket_adapter = function(comm) {\n",
       "    // Create a \"websocket\"-like object which calls the given IPython comm\n",
       "    // object with the appropriate methods. Currently this is a non binary\n",
       "    // socket, so there is still some room for performance tuning.\n",
       "    var ws = {};\n",
       "\n",
       "    ws.close = function() {\n",
       "        comm.close()\n",
       "    };\n",
       "    ws.send = function(m) {\n",
       "        //console.log('sending', m);\n",
       "        comm.send(m);\n",
       "    };\n",
       "    // Register the callback with on_msg.\n",
       "    comm.on_msg(function(msg) {\n",
       "        //console.log('receiving', msg['content']['data'], msg);\n",
       "        // Pass the mpl event to the overriden (by mpl) onmessage function.\n",
       "        ws.onmessage(msg['content']['data'])\n",
       "    });\n",
       "    return ws;\n",
       "}\n",
       "\n",
       "mpl.mpl_figure_comm = function(comm, msg) {\n",
       "    // This is the function which gets called when the mpl process\n",
       "    // starts-up an IPython Comm through the \"matplotlib\" channel.\n",
       "\n",
       "    var id = msg.content.data.id;\n",
       "    // Get hold of the div created by the display call when the Comm\n",
       "    // socket was opened in Python.\n",
       "    var element = $(\"#\" + id);\n",
       "    var ws_proxy = comm_websocket_adapter(comm)\n",
       "\n",
       "    function ondownload(figure, format) {\n",
       "        window.open(figure.imageObj.src);\n",
       "    }\n",
       "\n",
       "    var fig = new mpl.figure(id, ws_proxy,\n",
       "                           ondownload,\n",
       "                           element.get(0));\n",
       "\n",
       "    // Call onopen now - mpl needs it, as it is assuming we've passed it a real\n",
       "    // web socket which is closed, not our websocket->open comm proxy.\n",
       "    ws_proxy.onopen();\n",
       "\n",
       "    fig.parent_element = element.get(0);\n",
       "    fig.cell_info = mpl.find_output_cell(\"<div id='\" + id + \"'></div>\");\n",
       "    if (!fig.cell_info) {\n",
       "        console.error(\"Failed to find cell for figure\", id, fig);\n",
       "        return;\n",
       "    }\n",
       "\n",
       "    var output_index = fig.cell_info[2]\n",
       "    var cell = fig.cell_info[0];\n",
       "\n",
       "};\n",
       "\n",
       "mpl.figure.prototype.handle_close = function(fig, msg) {\n",
       "    fig.root.unbind('remove')\n",
       "\n",
       "    // Update the output cell to use the data from the current canvas.\n",
       "    fig.push_to_output();\n",
       "    var dataURL = fig.canvas.toDataURL();\n",
       "    // Re-enable the keyboard manager in IPython - without this line, in FF,\n",
       "    // the notebook keyboard shortcuts fail.\n",
       "    IPython.keyboard_manager.enable()\n",
       "    $(fig.parent_element).html('<img src=\"' + dataURL + '\">');\n",
       "    fig.close_ws(fig, msg);\n",
       "}\n",
       "\n",
       "mpl.figure.prototype.close_ws = function(fig, msg){\n",
       "    fig.send_message('closing', msg);\n",
       "    // fig.ws.close()\n",
       "}\n",
       "\n",
       "mpl.figure.prototype.push_to_output = function(remove_interactive) {\n",
       "    // Turn the data on the canvas into data in the output cell.\n",
       "    var dataURL = this.canvas.toDataURL();\n",
       "    this.cell_info[1]['text/html'] = '<img src=\"' + dataURL + '\">';\n",
       "}\n",
       "\n",
       "mpl.figure.prototype.updated_canvas_event = function() {\n",
       "    // Tell IPython that the notebook contents must change.\n",
       "    IPython.notebook.set_dirty(true);\n",
       "    this.send_message(\"ack\", {});\n",
       "    var fig = this;\n",
       "    // Wait a second, then push the new image to the DOM so\n",
       "    // that it is saved nicely (might be nice to debounce this).\n",
       "    setTimeout(function () { fig.push_to_output() }, 1000);\n",
       "}\n",
       "\n",
       "mpl.figure.prototype._init_toolbar = function() {\n",
       "    var fig = this;\n",
       "\n",
       "    var nav_element = $('<div/>')\n",
       "    nav_element.attr('style', 'width: 100%');\n",
       "    this.root.append(nav_element);\n",
       "\n",
       "    // Define a callback function for later on.\n",
       "    function toolbar_event(event) {\n",
       "        return fig.toolbar_button_onclick(event['data']);\n",
       "    }\n",
       "    function toolbar_mouse_event(event) {\n",
       "        return fig.toolbar_button_onmouseover(event['data']);\n",
       "    }\n",
       "\n",
       "    for(var toolbar_ind in mpl.toolbar_items){\n",
       "        var name = mpl.toolbar_items[toolbar_ind][0];\n",
       "        var tooltip = mpl.toolbar_items[toolbar_ind][1];\n",
       "        var image = mpl.toolbar_items[toolbar_ind][2];\n",
       "        var method_name = mpl.toolbar_items[toolbar_ind][3];\n",
       "\n",
       "        if (!name) { continue; };\n",
       "\n",
       "        var button = $('<button class=\"btn btn-default\" href=\"#\" title=\"' + name + '\"><i class=\"fa ' + image + ' fa-lg\"></i></button>');\n",
       "        button.click(method_name, toolbar_event);\n",
       "        button.mouseover(tooltip, toolbar_mouse_event);\n",
       "        nav_element.append(button);\n",
       "    }\n",
       "\n",
       "    // Add the status bar.\n",
       "    var status_bar = $('<span class=\"mpl-message\" style=\"text-align:right; float: right;\"/>');\n",
       "    nav_element.append(status_bar);\n",
       "    this.message = status_bar[0];\n",
       "\n",
       "    // Add the close button to the window.\n",
       "    var buttongrp = $('<div class=\"btn-group inline pull-right\"></div>');\n",
       "    var button = $('<button class=\"btn btn-mini btn-primary\" href=\"#\" title=\"Stop Interaction\"><i class=\"fa fa-power-off icon-remove icon-large\"></i></button>');\n",
       "    button.click(function (evt) { fig.handle_close(fig, {}); } );\n",
       "    button.mouseover('Stop Interaction', toolbar_mouse_event);\n",
       "    buttongrp.append(button);\n",
       "    var titlebar = this.root.find($('.ui-dialog-titlebar'));\n",
       "    titlebar.prepend(buttongrp);\n",
       "}\n",
       "\n",
       "mpl.figure.prototype._root_extra_style = function(el){\n",
       "    var fig = this\n",
       "    el.on(\"remove\", function(){\n",
       "\tfig.close_ws(fig, {});\n",
       "    });\n",
       "}\n",
       "\n",
       "mpl.figure.prototype._canvas_extra_style = function(el){\n",
       "    // this is important to make the div 'focusable\n",
       "    el.attr('tabindex', 0)\n",
       "    // reach out to IPython and tell the keyboard manager to turn it's self\n",
       "    // off when our div gets focus\n",
       "\n",
       "    // location in version 3\n",
       "    if (IPython.notebook.keyboard_manager) {\n",
       "        IPython.notebook.keyboard_manager.register_events(el);\n",
       "    }\n",
       "    else {\n",
       "        // location in version 2\n",
       "        IPython.keyboard_manager.register_events(el);\n",
       "    }\n",
       "\n",
       "}\n",
       "\n",
       "mpl.figure.prototype._key_event_extra = function(event, name) {\n",
       "    var manager = IPython.notebook.keyboard_manager;\n",
       "    if (!manager)\n",
       "        manager = IPython.keyboard_manager;\n",
       "\n",
       "    // Check for shift+enter\n",
       "    if (event.shiftKey && event.which == 13) {\n",
       "        this.canvas_div.blur();\n",
       "        event.shiftKey = false;\n",
       "        // Send a \"J\" for go to next cell\n",
       "        event.which = 74;\n",
       "        event.keyCode = 74;\n",
       "        manager.command_mode();\n",
       "        manager.handle_keydown(event);\n",
       "    }\n",
       "}\n",
       "\n",
       "mpl.figure.prototype.handle_save = function(fig, msg) {\n",
       "    fig.ondownload(fig, null);\n",
       "}\n",
       "\n",
       "\n",
       "mpl.find_output_cell = function(html_output) {\n",
       "    // Return the cell and output element which can be found *uniquely* in the notebook.\n",
       "    // Note - this is a bit hacky, but it is done because the \"notebook_saving.Notebook\"\n",
       "    // IPython event is triggered only after the cells have been serialised, which for\n",
       "    // our purposes (turning an active figure into a static one), is too late.\n",
       "    var cells = IPython.notebook.get_cells();\n",
       "    var ncells = cells.length;\n",
       "    for (var i=0; i<ncells; i++) {\n",
       "        var cell = cells[i];\n",
       "        if (cell.cell_type === 'code'){\n",
       "            for (var j=0; j<cell.output_area.outputs.length; j++) {\n",
       "                var data = cell.output_area.outputs[j];\n",
       "                if (data.data) {\n",
       "                    // IPython >= 3 moved mimebundle to data attribute of output\n",
       "                    data = data.data;\n",
       "                }\n",
       "                if (data['text/html'] == html_output) {\n",
       "                    return [cell, data, j];\n",
       "                }\n",
       "            }\n",
       "        }\n",
       "    }\n",
       "}\n",
       "\n",
       "// Register the function which deals with the matplotlib target/channel.\n",
       "// The kernel may be null if the page has been refreshed.\n",
       "if (IPython.notebook.kernel != null) {\n",
       "    IPython.notebook.kernel.comm_manager.register_target('matplotlib', mpl.mpl_figure_comm);\n",
       "}\n"
      ],
      "text/plain": [
       "<IPython.core.display.Javascript object>"
      ]
     },
     "metadata": {},
     "output_type": "display_data"
    },
    {
     "data": {
      "text/html": [
       "<img src=\"data:image/png;base64,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\">"
      ],
      "text/plain": [
       "<IPython.core.display.HTML object>"
      ]
     },
     "metadata": {},
     "output_type": "display_data"
    }
   ],
   "source": [
    "fig = plt.figure()\n",
    "ax = fig.add_subplot(111, autoscale_on=False, xlim=(-2, 2), ylim=(-2, 2))\n",
    "ax.grid()\n",
    "\n",
    "line, = ax.plot([], [], 'o-', lw=2)\n",
    "time_template = 'time = %.1fs'\n",
    "#time_text = ax.text(0.05, 0.9, '', transform=ax.transAxes)\n",
    "\n",
    "\n",
    "def init():\n",
    "    line.set_data([], [])\n",
    "#    time_text.set_text('')\n",
    "    return line, #time_text\n",
    "\n",
    "\n",
    "def animate(i):\n",
    "    thisx = [0, x_func[0](z_t[i, 0], z_t[i, 1]), x_func[1](z_t[i, 0], z_t[i, 1])]\n",
    "    thisy = [0, -y_func[0](z_t[i, 0], z_t[i, 1]), -y_func[1](z_t[i, 0], z_t[i, 1])]\n",
    "\n",
    "    line.set_data(thisx, thisy)\n",
    "#    time_text.set_text(time_template % (i*dt))\n",
    "    return line, #time_text\n",
    "\n",
    "ani = animation.FuncAnimation(fig, animate, np.arange(1, num_iter),\n",
    "                              interval=25, blit=True, init_func=init)\n",
    "plt.show()"
   ]
  },
  {
   "cell_type": "code",
   "execution_count": null,
   "metadata": {},
   "outputs": [],
   "source": []
  },
  {
   "cell_type": "code",
   "execution_count": null,
   "metadata": {},
   "outputs": [],
   "source": []
  }
 ],
 "metadata": {
  "kernelspec": {
   "display_name": "Python 3",
   "language": "python",
   "name": "python3"
  },
  "language_info": {
   "codemirror_mode": {
    "name": "ipython",
    "version": 3
   },
   "file_extension": ".py",
   "mimetype": "text/x-python",
   "name": "python",
   "nbconvert_exporter": "python",
   "pygments_lexer": "ipython3",
   "version": "3.5.5"
  }
 },
 "nbformat": 4,
 "nbformat_minor": 1
}
